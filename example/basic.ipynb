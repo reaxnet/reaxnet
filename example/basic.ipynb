{
 "cells": [
  {
   "cell_type": "markdown",
   "metadata": {},
   "source": [
    "# Basic usage for ReaxNet\n",
    "Example of how to use ReaxNet to predict energy and forces for a given structure."
   ]
  },
  {
   "cell_type": "markdown",
   "metadata": {},
   "source": [
    "## Import libraries\n",
    "Make sure you have the required libraries installed."
   ]
  },
  {
   "cell_type": "code",
   "execution_count": 1,
   "metadata": {},
   "outputs": [],
   "source": [
    "import yaml\n",
    "import pickle\n",
    "import jax\n",
    "import jax.numpy as jnp\n",
    "import numpy as np\n",
    "from functools import partial\n",
    "from ase.io import read\n",
    "from jax_md import space, partition\n",
    "from reaxnet.egnn.nequip import NequIPEnergyModel\n",
    "from reaxnet.egnn.data import AtomicNumberTable\n",
    "from reaxnet.egnn.nn_util import neighbor_list_featurizer\n",
    "from reaxnet.jax_nb.parameters import pqeq_parameters\n",
    "from reaxnet.jax_nb.jax_nb import pqeq_fori_loop, nonbond_potential, LAMBDA"
   ]
  },
  {
   "cell_type": "markdown",
   "metadata": {},
   "source": [
    "## Read the atomic structure\n",
    "We use float64 for the calculations."
   ]
  },
  {
   "cell_type": "code",
   "execution_count": 2,
   "metadata": {},
   "outputs": [],
   "source": [
    "jax.config.update(\"jax_enable_x64\", True)\n",
    "atoms = read('Li2PO2N.cif')"
   ]
  },
  {
   "cell_type": "markdown",
   "metadata": {},
   "source": [
    "## Load the pretrained model\n",
    "The pretrained model is trained on the [MpTrj](https://figshare.com/articles/dataset/Materials_Project_Trjectory_MPtrj_Dataset/23713842) dataset. The pretrained model can be downloaded [here](https://figshare.com/s/182754086804163dd29a)."
   ]
  },
  {
   "cell_type": "code",
   "execution_count": 3,
   "metadata": {},
   "outputs": [],
   "source": [
    "MODELPATH = '../pretrained/'\n",
    "with open(MODELPATH+'model_config.yaml', 'r') as f:\n",
    "    model_dict = yaml.safe_load(f)\n",
    "with open(MODELPATH+'params.pickle', 'rb') as f:\n",
    "    params = pickle.load(f)\n",
    "ztable = AtomicNumberTable.from_dict(MODELPATH+'mapping.yaml')\n",
    "model = NequIPEnergyModel(**model_dict)"
   ]
  },
  {
   "cell_type": "markdown",
   "metadata": {},
   "source": [
    "## Prepare to predict\n",
    "### 1. Convert numpy array to jax.numpy array"
   ]
  },
  {
   "cell_type": "code",
   "execution_count": 4,
   "metadata": {},
   "outputs": [],
   "source": [
    "positions = atoms.get_scaled_positions()\n",
    "box = jnp.asarray(atoms.get_cell().array.transpose())\n",
    "atomic_numbers = jnp.asarray(atoms.numbers)\n",
    "chemical_symbols = atoms.get_chemical_symbols()\n",
    "nn_atomic_numbers = ztable.mapping(atomic_numbers) \n",
    "nn_atomic_numbers = jax.nn.one_hot(jnp.array(nn_atomic_numbers), len(ztable) + 1)"
   ]
  },
  {
   "cell_type": "markdown",
   "metadata": {},
   "source": [
    "### 2. Define the displacement function and neighbor list function"
   ]
  },
  {
   "cell_type": "code",
   "execution_count": 5,
   "metadata": {},
   "outputs": [],
   "source": [
    "displacement_fn, _ = space.periodic_general(box, fractional_coordinates=True)\n",
    "nn_neighbor_fn = partition.neighbor_list(\n",
    "                            displacement_fn,\n",
    "                            box,\n",
    "                            model_dict['r_max'],\n",
    "                            format=partition.Sparse,\n",
    "                            fractional_coordinates=True,\n",
    "                            )\n",
    "nb_neighbor_fn = partition.neighbor_list(\n",
    "                            displacement_fn,\n",
    "                            box,\n",
    "                            12.5,\n",
    "                            format=partition.Sparse,\n",
    "                            fractional_coordinates=True,\n",
    ")\n",
    "featurizer = neighbor_list_featurizer(displacement_fn)"
   ]
  },
  {
   "cell_type": "markdown",
   "metadata": {},
   "source": [
    "### 3. Define the machine learning potential energy function"
   ]
  },
  {
   "cell_type": "code",
   "execution_count": 6,
   "metadata": {},
   "outputs": [],
   "source": [
    "def energy_nn(embedded_numbers, model, params, position, neighbor, **kwargs):\n",
    "    graph = featurizer(embedded_numbers, position, neighbor, **kwargs)\n",
    "    atomic_output = model.apply(params, graph.edges, graph.nodes, graph.senders, graph.receivers) \n",
    "    return jnp.sum(atomic_output[:-1]) \n",
    "energy_fn_nn = partial(energy_nn, nn_atomic_numbers, model, params)"
   ]
  },
  {
   "cell_type": "markdown",
   "metadata": {},
   "source": [
    "### 4. Define the polarizable long-range interactions function"
   ]
  },
  {
   "cell_type": "code",
   "execution_count": 7,
   "metadata": {},
   "outputs": [],
   "source": [
    "rad = jnp.array([pqeq_parameters[s]['rad'] for s in chemical_symbols])\n",
    "alpha = 0.5 * LAMBDA / rad / rad\n",
    "alpha = jnp.sqrt(alpha.reshape(-1,1) * alpha.reshape(1,-1) / (alpha.reshape(-1,1) + alpha.reshape(1,-1)))\n",
    "chi0 = jnp.array([pqeq_parameters[s]['chi0'] for s in chemical_symbols])\n",
    "eta0 = jnp.array([pqeq_parameters[s]['eta0'] for s in chemical_symbols])\n",
    "z = jnp.array([pqeq_parameters[s]['Z'] for s in chemical_symbols])\n",
    "Ks = jnp.array([pqeq_parameters[s]['Ks'] for s in chemical_symbols])\n",
    "\n",
    "charges_fn = partial(pqeq_fori_loop, displacement_fn,\n",
    "                                     alpha=alpha, cutoff=12.5, iterations=2, net_charge=0,\n",
    "                                     eta0=eta0, chi0=chi0, z=z, Ks=Ks)\n",
    "energy_fn_nb = partial(nonbond_potential, displacement_fn,\n",
    "                       alpha=alpha, cutoff=12.5, eta0=eta0, chi0=chi0, z=z, Ks=Ks,\n",
    "                       compute_d3=False, atomic_numbers=atomic_numbers, \n",
    "                       d3_params={'s6': 1.0, 'rs6': 1.217, 's18': 0.722, 'rs18': 1.0, 'alp': 14.0},\n",
    "                       damping='zero', smooth_fn=None)"
   ]
  },
  {
   "cell_type": "markdown",
   "metadata": {},
   "source": [
    "### 5. Define the total energy function"
   ]
  },
  {
   "cell_type": "code",
   "execution_count": 8,
   "metadata": {},
   "outputs": [],
   "source": [
    "def energy_fn(positions,\n",
    "              nn_nbr,\n",
    "              nb_nbr,\n",
    "             ):\n",
    "    \"\"\"\n",
    "    Total potential energy function\n",
    "\n",
    "    Args:\n",
    "    ----\n",
    "    positions: jnp.array\n",
    "        Atomic positions in Angstrom\n",
    "    \"\"\"\n",
    "\n",
    "    # Update the neighbor lists first\n",
    "    nn_nbr = nn_nbr.update(positions)\n",
    "    nb_nbr = nb_nbr.update(positions)\n",
    "    pe_nn = energy_fn_nn(positions, nn_nbr)\n",
    "\n",
    "    charges, r_shell = charges_fn(jax.lax.stop_gradient(positions), \n",
    "                                  nb_nbr)\n",
    "    pe_nb = energy_fn_nb(positions, nb_nbr, r_shell, charges)\n",
    "    \n",
    "    return pe_nn + pe_nb, (charges, r_shell)"
   ]
  },
  {
   "cell_type": "markdown",
   "metadata": {},
   "source": [
    "### 6. Allocate the neighbor list"
   ]
  },
  {
   "cell_type": "code",
   "execution_count": 9,
   "metadata": {},
   "outputs": [],
   "source": [
    "nn_nbr = nn_neighbor_fn.allocate(positions)\n",
    "nb_nbr = nb_neighbor_fn.allocate(positions)"
   ]
  },
  {
   "cell_type": "markdown",
   "metadata": {},
   "source": [
    "### 7. Define the value and gradient functions\n",
    "The forces are calculated as the negative gradient of the energy with respect to the atomic positions. The charges are the auxiliary output when calculating the polarizable long-range interactions."
   ]
  },
  {
   "cell_type": "code",
   "execution_count": 10,
   "metadata": {},
   "outputs": [],
   "source": [
    "value_and_grad_fn = jax.jit(jax.value_and_grad(partial(energy_fn, \n",
    "                                nn_nbr=nn_nbr, nb_nbr=nb_nbr), argnums=0, has_aux=True))"
   ]
  },
  {
   "cell_type": "markdown",
   "metadata": {},
   "source": [
    "## Get results from the model\n",
    "- Energy: results[0][0], in eV\n",
    "- Forces: results[1], in eV/Angstrom\n",
    "- Charges: results[0][1][0], in e\n"
   ]
  },
  {
   "cell_type": "code",
   "execution_count": 11,
   "metadata": {},
   "outputs": [],
   "source": [
    "results = value_and_grad_fn(positions)"
   ]
  },
  {
   "cell_type": "code",
   "execution_count": 12,
   "metadata": {},
   "outputs": [
    {
     "name": "stdout",
     "output_type": "stream",
     "text": [
      "Energy: -14602.55344216379 eV\n"
     ]
    }
   ],
   "source": [
    "energy = results[0][0]\n",
    "print('Energy:', energy, 'eV')"
   ]
  },
  {
   "cell_type": "code",
   "execution_count": 13,
   "metadata": {},
   "outputs": [
    {
     "name": "stdout",
     "output_type": "stream",
     "text": [
      "Forces: \n",
      " [[ 0.05382896 -0.04230339  0.0018265 ]\n",
      " [ 0.05382896  0.04230339  0.0018265 ]\n",
      " [-0.05382896  0.04230339  0.0018265 ]\n",
      " ...\n",
      " [ 0.08315825 -0.09146194 -0.05896824]\n",
      " [-0.08315825 -0.09146194 -0.05896824]\n",
      " [-0.08315825  0.09146194 -0.05896824]]\n"
     ]
    }
   ],
   "source": [
    "forces = -results[1]\n",
    "print('Forces: \\n', forces)"
   ]
  },
  {
   "cell_type": "code",
   "execution_count": 14,
   "metadata": {},
   "outputs": [
    {
     "name": "stdout",
     "output_type": "stream",
     "text": [
      "Charges: \n",
      " [ 0.37500883  0.37500883  0.37500883 ... -0.2685427  -0.2685427\n",
      " -0.2685427 ]\n"
     ]
    }
   ],
   "source": [
    "charges = results[0][1][0]\n",
    "print('Charges: \\n', charges)"
   ]
  }
 ],
 "metadata": {
  "kernelspec": {
   "display_name": "test",
   "language": "python",
   "name": "python3"
  },
  "language_info": {
   "codemirror_mode": {
    "name": "ipython",
    "version": 3
   },
   "file_extension": ".py",
   "mimetype": "text/x-python",
   "name": "python",
   "nbconvert_exporter": "python",
   "pygments_lexer": "ipython3",
   "version": "3.12.2"
  }
 },
 "nbformat": 4,
 "nbformat_minor": 2
}
